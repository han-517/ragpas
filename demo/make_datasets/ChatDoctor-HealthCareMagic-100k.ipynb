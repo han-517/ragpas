{
 "cells": [
  {
   "cell_type": "code",
   "metadata": {
    "ExecuteTime": {
     "end_time": "2025-03-30T05:36:55.239035Z",
     "start_time": "2025-03-30T05:36:55.236814Z"
    }
   },
   "source": [
    "from datasets import load_dataset\n",
    "from tqdm import tqdm\n",
    "import pandas as pd\n",
    "import os\n",
    "from pathlib import Path"
   ],
   "outputs": [],
   "execution_count": 17
  },
  {
   "cell_type": "code",
   "metadata": {
    "ExecuteTime": {
     "end_time": "2025-03-30T05:36:55.269849Z",
     "start_time": "2025-03-30T05:36:55.267351Z"
    }
   },
   "source": [
    "# get root directory\n",
    "root = Path().absolute().parent.parent\n",
    "root = str(root)"
   ],
   "outputs": [],
   "execution_count": 18
  },
  {
   "cell_type": "code",
   "metadata": {
    "ExecuteTime": {
     "end_time": "2025-03-30T05:36:58.845883Z",
     "start_time": "2025-03-30T05:36:55.273607Z"
    }
   },
   "source": [
    "dataset = load_dataset(\"lavita/ChatDoctor-HealthCareMagic-100k\")"
   ],
   "outputs": [],
   "execution_count": 19
  },
  {
   "cell_type": "code",
   "metadata": {
    "ExecuteTime": {
     "end_time": "2025-03-30T05:36:58.854828Z",
     "start_time": "2025-03-30T05:36:58.851344Z"
    }
   },
   "source": [
    "print(f\"dataset structure: {dataset}\")\n",
    "print(f\"1st sample of train set: {dataset['train'][0]}\")"
   ],
   "outputs": [
    {
     "name": "stdout",
     "output_type": "stream",
     "text": [
      "dataset structure: DatasetDict({\n",
      "    train: Dataset({\n",
      "        features: ['instruction', 'input', 'output'],\n",
      "        num_rows: 112165\n",
      "    })\n",
      "})\n",
      "1st sample of train set: {'instruction': \"If you are a doctor, please answer the medical questions based on the patient's description.\", 'input': 'I woke up this morning feeling the whole room is spinning when i was sitting down. I went to the bathroom walking unsteadily, as i tried to focus i feel nauseous. I try to vomit but it wont come out.. After taking panadol and sleep for few hours, i still feel the same.. By the way, if i lay down or sit down, my head do not spin, only when i want to move around then i feel the whole world is spinning.. And it is normal stomach discomfort at the same time? Earlier after i relieved myself, the spinning lessen so i am not sure whether its connected or coincidences.. Thank you doc!', 'output': 'Hi, Thank you for posting your query. The most likely cause for your symptoms is benign paroxysmal positional vertigo (BPPV), a type of peripheral vertigo. In this condition, the most common symptom is dizziness or giddiness, which is made worse with movements. Accompanying nausea and vomiting are common. The condition is due to problem in the ear, and improves in a few days on own. Betahistine tablets would help relieve your symptoms. Doing vestibular rehabilitation or adaptation exercises would prevent the recurrence of these symptoms. An ENT evaluation would also help. I hope it helps. Best wishes, Chat Doctor.'}\n"
     ]
    }
   ],
   "execution_count": 20
  },
  {
   "cell_type": "markdown",
   "metadata": {},
   "source": [
    "check the column"
   ]
  },
  {
   "cell_type": "code",
   "metadata": {
    "ExecuteTime": {
     "end_time": "2025-03-30T05:36:58.880972Z",
     "start_time": "2025-03-30T05:36:58.878546Z"
    }
   },
   "source": [
    "if \"input\" not in dataset['train'].column_names or \"output\" not in dataset['train'].column_names:\n",
    "    print(\"not found input or output column in dataset\")"
   ],
   "outputs": [],
   "execution_count": 21
  },
  {
   "cell_type": "markdown",
   "metadata": {},
   "source": [
    "data mapping function"
   ]
  },
  {
   "cell_type": "code",
   "metadata": {
    "ExecuteTime": {
     "end_time": "2025-03-30T05:36:58.889523Z",
     "start_time": "2025-03-30T05:36:58.886448Z"
    }
   },
   "source": [
    "def merge_columns(example):\n",
    "    merged_text = f\"Patient: {example['input']} Doctor: {example['output']}\"\n",
    "    return {\"merged_text\": merged_text}"
   ],
   "outputs": [],
   "execution_count": 22
  },
  {
   "cell_type": "code",
   "metadata": {
    "ExecuteTime": {
     "end_time": "2025-03-30T05:36:58.930436Z",
     "start_time": "2025-03-30T05:36:58.895789Z"
    }
   },
   "source": [
    "processed_dataset = dataset.map(merge_columns)\n",
    "print(f\"dataset structure: {processed_dataset}\")\n",
    "print(f\"1st sample of train set: {processed_dataset['train'][0]}\")"
   ],
   "outputs": [
    {
     "name": "stdout",
     "output_type": "stream",
     "text": [
      "dataset structure: DatasetDict({\n",
      "    train: Dataset({\n",
      "        features: ['instruction', 'input', 'output', 'merged_text'],\n",
      "        num_rows: 112165\n",
      "    })\n",
      "})\n",
      "1st sample of train set: {'instruction': \"If you are a doctor, please answer the medical questions based on the patient's description.\", 'input': 'I woke up this morning feeling the whole room is spinning when i was sitting down. I went to the bathroom walking unsteadily, as i tried to focus i feel nauseous. I try to vomit but it wont come out.. After taking panadol and sleep for few hours, i still feel the same.. By the way, if i lay down or sit down, my head do not spin, only when i want to move around then i feel the whole world is spinning.. And it is normal stomach discomfort at the same time? Earlier after i relieved myself, the spinning lessen so i am not sure whether its connected or coincidences.. Thank you doc!', 'output': 'Hi, Thank you for posting your query. The most likely cause for your symptoms is benign paroxysmal positional vertigo (BPPV), a type of peripheral vertigo. In this condition, the most common symptom is dizziness or giddiness, which is made worse with movements. Accompanying nausea and vomiting are common. The condition is due to problem in the ear, and improves in a few days on own. Betahistine tablets would help relieve your symptoms. Doing vestibular rehabilitation or adaptation exercises would prevent the recurrence of these symptoms. An ENT evaluation would also help. I hope it helps. Best wishes, Chat Doctor.', 'merged_text': 'Patient: I woke up this morning feeling the whole room is spinning when i was sitting down. I went to the bathroom walking unsteadily, as i tried to focus i feel nauseous. I try to vomit but it wont come out.. After taking panadol and sleep for few hours, i still feel the same.. By the way, if i lay down or sit down, my head do not spin, only when i want to move around then i feel the whole world is spinning.. And it is normal stomach discomfort at the same time? Earlier after i relieved myself, the spinning lessen so i am not sure whether its connected or coincidences.. Thank you doc! Doctor: Hi, Thank you for posting your query. The most likely cause for your symptoms is benign paroxysmal positional vertigo (BPPV), a type of peripheral vertigo. In this condition, the most common symptom is dizziness or giddiness, which is made worse with movements. Accompanying nausea and vomiting are common. The condition is due to problem in the ear, and improves in a few days on own. Betahistine tablets would help relieve your symptoms. Doing vestibular rehabilitation or adaptation exercises would prevent the recurrence of these symptoms. An ENT evaluation would also help. I hope it helps. Best wishes, Chat Doctor.'}\n"
     ]
    }
   ],
   "execution_count": 23
  },
  {
   "cell_type": "code",
   "metadata": {
    "ExecuteTime": {
     "end_time": "2025-03-30T05:36:59.171918Z",
     "start_time": "2025-03-30T05:36:58.936939Z"
    }
   },
   "source": [
    "# save processed_dataset['train'][\"merged_text\"] to csv files\n",
    "start = 1000\n",
    "sample_size = 2000\n",
    "pd.DataFrame({\"context\": processed_dataset['train'][\"merged_text\"][start:start+sample_size]}).to_csv(f\"{root}/data/input/context-{sample_size}.csv\", index=False)"
   ],
   "outputs": [],
   "execution_count": 24
  },
  {
   "cell_type": "markdown",
   "metadata": {},
   "source": [
    "Run script 1. \n",
    "\n",
    "Extract all info from context, and devide it to privacy_info and known_info."
   ]
  },
  {
   "cell_type": "code",
   "metadata": {
    "ExecuteTime": {
     "end_time": "2025-03-30T05:42:24.479803Z",
     "start_time": "2025-03-30T05:42:22.041579Z"
    }
   },
   "source": [
    "import subprocess\n",
    "result = subprocess.run([\"python\", f\"{root}/scripts/step1_extract_info.py\", \"-m\", \"doubao-1-5-pro\", \"-i\", f\"{root}/data/input/context-{sample_size}.csv\", \"-o\", f\"{root}/data/output-doubao-1-5-pro/info-2000.csv\", \"-t\", \"Person\"], stdout=subprocess.PIPE)"
   ],
   "outputs": [],
   "execution_count": 27
  },
  {
   "cell_type": "markdown",
   "metadata": {},
   "source": [
    "Run script 2.\n",
    "\n",
    "Generate attack prompt for RAG."
   ]
  },
  {
   "cell_type": "code",
   "metadata": {
    "ExecuteTime": {
     "end_time": "2025-03-30T05:37:05.281855Z",
     "start_time": "2025-03-30T05:37:03.002806Z"
    }
   },
   "source": [
    "result = subprocess.run([\"python\", f\"{root}/scripts/step2_generate_attack_prompt.py\", \"-m\", \"doubao-1-5-pro\", \"-i\", f\"{root}/data/output-doubao-1-5-pro/info-2000.csv\", \"-o\", f\"{root}/data/output-doubao-1-5-pro/attack_prompt-2000.csv\"], stdout=subprocess.PIPE)"
   ],
   "outputs": [],
   "execution_count": 26
  }
 ],
 "metadata": {
  "kernelspec": {
   "display_name": "metric",
   "language": "python",
   "name": "python3"
  },
  "language_info": {
   "codemirror_mode": {
    "name": "ipython",
    "version": 3
   },
   "file_extension": ".py",
   "mimetype": "text/x-python",
   "name": "python",
   "nbconvert_exporter": "python",
   "pygments_lexer": "ipython3",
   "version": "3.12.9"
  }
 },
 "nbformat": 4,
 "nbformat_minor": 2
}
