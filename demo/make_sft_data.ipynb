{
 "cells": [
  {
   "cell_type": "code",
   "execution_count": 1,
   "metadata": {},
   "outputs": [],
   "source": [
    "from pathlib import Path\n",
    "import pandas as pd\n",
    "from tqdm import tqdm\n",
    "import os"
   ]
  },
  {
   "cell_type": "code",
   "execution_count": null,
   "metadata": {},
   "outputs": [],
   "source": [
    "# get root directory\n",
    "root_dir = str(Path().absolute().parent)"
   ]
  },
  {
   "cell_type": "code",
   "execution_count": null,
   "metadata": {},
   "outputs": [],
   "source": [
    "context_file_path = f\"{root_dir}/data/input/context-2000.csv\"\n",
    "ap_file_path = f\"{root_dir}/data/output-doubao-1-5-pro/attack_prompt-2000.csv\"\n",
    "dataset_file_path = f\"{root_dir}/data/output-doubao-1-5-pro/dataset-2000.csv\"\n",
    "response_file_path = f\"{root_dir}/data/output-doubao-1-5-pro/attack_prompt_response-2000.csv\"\n",
    "\n",
    "sft_file_path = f\"{root_dir}/data/output-doubao-1-5-pro/sft-2000.csv\""
   ]
  },
  {
   "cell_type": "code",
   "execution_count": null,
   "metadata": {},
   "outputs": [],
   "source": [
    "conversation = []\n",
    "message = {\n",
    "    'content': '',\n",
    "    'role': ''\n",
    "}"
   ]
  },
  {
   "cell_type": "code",
   "execution_count": null,
   "metadata": {},
   "outputs": [],
   "source": [
    "responses = pd.read_csv(response_file_path)\n",
    "dataset = pd.read_csv(dataset_file_path)\n",
    "\n",
    "# "
   ]
  }
 ],
 "metadata": {
  "kernelspec": {
   "display_name": "metric",
   "language": "python",
   "name": "python3"
  },
  "language_info": {
   "codemirror_mode": {
    "name": "ipython",
    "version": 3
   },
   "file_extension": ".py",
   "mimetype": "text/x-python",
   "name": "python",
   "nbconvert_exporter": "python",
   "pygments_lexer": "ipython3",
   "version": "3.12.9"
  }
 },
 "nbformat": 4,
 "nbformat_minor": 2
}
